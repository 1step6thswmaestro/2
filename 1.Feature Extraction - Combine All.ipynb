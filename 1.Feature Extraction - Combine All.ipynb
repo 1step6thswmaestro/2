{
 "cells": [
  {
   "cell_type": "markdown",
   "metadata": {},
   "source": [
    "###author, forum, title, text, 여태까지 한 것들을 불러와서 하나로 합침"
   ]
  },
  {
   "cell_type": "code",
   "execution_count": null,
   "metadata": {
    "collapsed": true
   },
   "outputs": [],
   "source": [
    "import pandas as pd\n",
    "import numpy as np\n",
    "import json\n",
    "import pickle\n",
    "\n",
    "max_features = 1000\n",
    "author_forum_p = pickle.load(open(\"author, forum_%d.p\" % max_features, \"rb\"))\n",
    "title_p = pickle.load(open(\"title_%d.p\" % max_features, \"rb\"))\n",
    "text_p = pickle.load(open(\"text_%d.p\" % max_features, \"rb\"))\n",
    "\n",
    "train = pd.concat([author_forum_p, title_p, text_p], axis = 1)\n",
    "\n",
    "train"
   ]
  },
  {
   "cell_type": "markdown",
   "metadata": {},
   "source": [
    "### predictor, model 생성"
   ]
  },
  {
   "cell_type": "code",
   "execution_count": 14,
   "metadata": {
    "collapsed": false
   },
   "outputs": [],
   "source": [
    "from sklearn.ensemble import RandomForestClassifier\n",
    "\n",
    "label = 'istroll'\n",
    "pre = train.columns.drop([label])\n",
    "\n",
    "model = RandomForestClassifier(n_estimators=10, n_jobs=6)"
   ]
  },
  {
   "cell_type": "markdown",
   "metadata": {},
   "source": [
    "###cross validation"
   ]
  },
  {
   "cell_type": "code",
   "execution_count": 15,
   "metadata": {
    "collapsed": false
   },
   "outputs": [
    {
     "name": "stdout",
     "output_type": "stream",
     "text": [
      "0.72148840098\n"
     ]
    }
   ],
   "source": [
    "from sklearn import cross_validation\n",
    "\n",
    "cv_value = 3\n",
    "\n",
    "scores = cross_validation.cross_val_score(model, train[pre], train[label], cv=cv_value, scoring=\"roc_auc\")\n",
    "cv_result = scores.mean()\n",
    "\n",
    "print(cv_result)"
   ]
  },
  {
   "cell_type": "markdown",
   "metadata": {},
   "source": [
    "##Result\n",
    "   * forumid와 author, title, text를 bag of words로 변환 (feature : 1,000개) - 0.721\n",
    "   * forumid와 author, title을 bag of words로 변환 (feature : 1,000개) - 0.712577335639\n",
    "   * forumid와 author, title을 bag of words로 변환 (feature : 1,000개) - 0.712577335639"
   ]
  }
 ],
 "metadata": {
  "kernelspec": {
   "display_name": "Python 2",
   "language": "python",
   "name": "python2"
  },
  "language_info": {
   "codemirror_mode": {
    "name": "ipython",
    "version": 2
   },
   "file_extension": ".py",
   "mimetype": "text/x-python",
   "name": "python",
   "nbconvert_exporter": "python",
   "pygments_lexer": "ipython2",
   "version": "2.7.6"
  }
 },
 "nbformat": 4,
 "nbformat_minor": 0
}

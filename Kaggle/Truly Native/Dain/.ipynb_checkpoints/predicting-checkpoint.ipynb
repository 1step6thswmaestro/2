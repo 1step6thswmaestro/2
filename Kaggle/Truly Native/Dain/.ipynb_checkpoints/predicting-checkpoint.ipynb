{
 "cells": [
  {
   "cell_type": "markdown",
   "metadata": {},
   "source": [
    "# Input Data"
   ]
  },
  {
   "cell_type": "code",
   "execution_count": 303,
   "metadata": {
    "collapsed": true
   },
   "outputs": [],
   "source": [
    "import pandas as pd\n",
    "import numpy as np"
   ]
  },
  {
   "cell_type": "code",
   "execution_count": 304,
   "metadata": {
    "collapsed": true
   },
   "outputs": [],
   "source": [
    "Label = \"sponsored\""
   ]
  },
  {
   "cell_type": "code",
   "execution_count": 306,
   "metadata": {
    "collapsed": false
   },
   "outputs": [],
   "source": [
    "predictors = [\"Dummy\", \"Dummy2\"]\n",
    "train = pd.DataFrame({\n",
    "        \"file\" : [\"1\", \"2\", \"3\", \"4\", \"5\", \"6\"],\n",
    "        \"Dummy\" : [5, -1, 3, None, -2, 0],\n",
    "        \"Dummy2\" : [-3, 3, -5, 4, None, 2],\n",
    "        Label : [1, 0, 1, 0, 0, 0]\n",
    "    })\n",
    "test = pd.DataFrame({\n",
    "        \"file\" : [\"1234\", \"5678\", \"9999\", \"6\"],\n",
    "        \"Dummy\" : [-1, 4, None, 3],\n",
    "        \"Dummy2\" : [5, -2, 3, -4]\n",
    "    })"
   ]
  },
  {
   "cell_type": "markdown",
   "metadata": {},
   "source": [
    "# Fit & Predict Function"
   ]
  },
  {
   "cell_type": "code",
   "execution_count": 297,
   "metadata": {
    "collapsed": false
   },
   "outputs": [],
   "source": [
    "def fit_predict(model):\n",
    "    model.fit(train[predictors], train[Label])\n",
    "    result = model.predict_proba(test[predictors])\n",
    "    return result"
   ]
  },
  {
   "cell_type": "code",
   "execution_count": 298,
   "metadata": {
    "collapsed": true
   },
   "outputs": [],
   "source": [
    "from sklearn import cross_validation\n",
    "\n",
    "def fit_cv(model, cv_value):\n",
    "    scores = cross_validation.cross_val_score(model, train[predictors], train[Label], cv=cv_value)\n",
    "    # evaluation 방법 ROC\n",
    "    return scores.mean()"
   ]
  },
  {
   "cell_type": "markdown",
   "metadata": {},
   "source": [
    "# XGBoost"
   ]
  },
  {
   "cell_type": "code",
   "execution_count": 74,
   "metadata": {
    "collapsed": false,
    "scrolled": false
   },
   "outputs": [],
   "source": [
    "from xgboost.sklearn import XGBClassifier"
   ]
  },
  {
   "cell_type": "code",
   "execution_count": 311,
   "metadata": {
    "collapsed": false
   },
   "outputs": [
    {
     "data": {
      "text/plain": [
       "array([[ 0.66666663,  0.33333334],\n",
       "       [ 0.66666663,  0.33333334],\n",
       "       [ 0.66666663,  0.33333334],\n",
       "       [ 0.66666663,  0.33333334]], dtype=float32)"
      ]
     },
     "execution_count": 311,
     "metadata": {},
     "output_type": "execute_result"
    }
   ],
   "source": [
    "model = XGBClassifier(max_depth=10, learning_rate=1, n_estimators=1000, silent=False)\n",
    "result = fit_predict(model)\n",
    "result"
   ]
  },
  {
   "cell_type": "markdown",
   "metadata": {},
   "source": [
    "# SVM"
   ]
  },
  {
   "cell_type": "code",
   "execution_count": 307,
   "metadata": {
    "collapsed": true
   },
   "outputs": [],
   "source": [
    "from sklearn.svm import SVC"
   ]
  },
  {
   "cell_type": "code",
   "execution_count": 308,
   "metadata": {
    "collapsed": false
   },
   "outputs": [
    {
     "data": {
      "text/plain": [
       "array([[ 0.91180627,  0.08819373],\n",
       "       [ 0.35541168,  0.64458832],\n",
       "       [ 0.83298112,  0.16701888],\n",
       "       [ 0.30511711,  0.69488289]])"
      ]
     },
     "execution_count": 308,
     "metadata": {},
     "output_type": "execute_result"
    }
   ],
   "source": [
    "model = SVC(kernel='linear', probability=True)\n",
    "result = fit_predict(model)\n",
    "result"
   ]
  },
  {
   "cell_type": "markdown",
   "metadata": {},
   "source": [
    "# Random Forest"
   ]
  },
  {
   "cell_type": "code",
   "execution_count": 299,
   "metadata": {
    "collapsed": true
   },
   "outputs": [],
   "source": [
    "from sklearn.ensemble import RandomForestClassifier"
   ]
  },
  {
   "cell_type": "code",
   "execution_count": 310,
   "metadata": {
    "collapsed": false
   },
   "outputs": [
    {
     "data": {
      "text/plain": [
       "array([[ 0.9,  0.1],\n",
       "       [ 0.1,  0.9],\n",
       "       [ 0.9,  0.1],\n",
       "       [ 0.1,  0.9]])"
      ]
     },
     "execution_count": 310,
     "metadata": {},
     "output_type": "execute_result"
    }
   ],
   "source": [
    "model = RandomForestClassifier()\n",
    "result = fit_predict(model)\n",
    "result"
   ]
  },
  {
   "cell_type": "markdown",
   "metadata": {},
   "source": [
    "# Make Submit File"
   ]
  },
  {
   "cell_type": "code",
   "execution_count": 275,
   "metadata": {
    "collapsed": false
   },
   "outputs": [],
   "source": [
    "submission = pd.DataFrame({\n",
    "        \"file\" : test[\"file\"],\n",
    "        \"sponsored\" : result.T[1]\n",
    "    })"
   ]
  },
  {
   "cell_type": "code",
   "execution_count": 293,
   "metadata": {
    "collapsed": false
   },
   "outputs": [],
   "source": [
    "from time import localtime, strftime\n",
    "t = strftime(\"%y:%m:%d %H:%M:%S\", localtime())\n",
    "\n",
    "model_name = str(model)\n",
    "model_name = name[:model_name.find('(') + 1]\n",
    "# name에 cross validation 값 추가"
   ]
  },
  {
   "cell_type": "code",
   "execution_count": 294,
   "metadata": {
    "collapsed": false
   },
   "outputs": [],
   "source": [
    "submission.to_csv(t + \" \" + model_name + \" result.csv\", index = False)"
   ]
  }
 ],
 "metadata": {
  "kernelspec": {
   "display_name": "Python 2",
   "language": "python",
   "name": "python2"
  },
  "language_info": {
   "codemirror_mode": {
    "name": "ipython",
    "version": 2
   },
   "file_extension": ".py",
   "mimetype": "text/x-python",
   "name": "python",
   "nbconvert_exporter": "python",
   "pygments_lexer": "ipython2",
   "version": "2.7.10"
  }
 },
 "nbformat": 4,
 "nbformat_minor": 0
}

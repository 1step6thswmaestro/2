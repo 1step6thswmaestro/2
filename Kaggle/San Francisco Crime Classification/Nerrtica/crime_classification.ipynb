{
 "cells": [
  {
   "cell_type": "code",
   "execution_count": 5,
   "metadata": {
    "collapsed": false
   },
   "outputs": [],
   "source": [
    "import numpy\n",
    "import pandas\n",
    "\n",
    "train = pandas.read_csv(\"Data/train.csv\")\n",
    "test = pandas.read_csv(\"Data/test.csv\")"
   ]
  },
  {
   "cell_type": "code",
   "execution_count": 6,
   "metadata": {
    "collapsed": false
   },
   "outputs": [
    {
     "data": {
      "text/plain": [
       "array([37, 21, 21, ..., 16, 35, 12])"
      ]
     },
     "execution_count": 6,
     "metadata": {},
     "output_type": "execute_result"
    }
   ],
   "source": [
    "from sklearn import preprocessing\n",
    "\n",
    "le = preprocessing.LabelEncoder()\n",
    "category_trans = le.fit_transform(train[\"Category\"])\n",
    "train[\"Category\"] = category_trans"
   ]
  },
  {
   "cell_type": "code",
   "execution_count": 3,
   "metadata": {
    "collapsed": true
   },
   "outputs": [],
   "source": [
    "year = []\n",
    "for i in range(len(train)):\n",
    "    year.append(str(train[\"Dates\"][i][2:4]) + \"y\")\n",
    "train[\"Year\"] = year\n",
    "\n",
    "year = []\n",
    "for i in range(len(test)):\n",
    "    year.append(str(test[\"Dates\"][i][2:4]) + \"y\")\n",
    "test[\"Year\"] = year"
   ]
  },
  {
   "cell_type": "code",
   "execution_count": 4,
   "metadata": {
    "collapsed": true
   },
   "outputs": [],
   "source": [
    "month = []\n",
    "for i in range(len(train)):\n",
    "    month.append(str(train[\"Dates\"][i][5:7]) + \"m\")\n",
    "train[\"Month\"] = month\n",
    "\n",
    "month = []\n",
    "for i in range(len(test)):\n",
    "    month.append(str(test[\"Dates\"][i][5:7]) + \"m\")\n",
    "test[\"Month\"] = month"
   ]
  },
  {
   "cell_type": "code",
   "execution_count": 5,
   "metadata": {
    "collapsed": false
   },
   "outputs": [],
   "source": [
    "hour = []\n",
    "for i in range(len(train)):\n",
    "    hour.append(str(train[\"Dates\"][i][11:13]) + \"h\")\n",
    "train[\"Hour\"] = hour\n",
    "\n",
    "hour = []\n",
    "for i in range(len(test)):\n",
    "    hour.append(str(test[\"Dates\"][i][11:13]) + \"h\")\n",
    "test[\"Hour\"] = hour"
   ]
  },
  {
   "cell_type": "code",
   "execution_count": 6,
   "metadata": {
    "collapsed": false
   },
   "outputs": [],
   "source": [
    "from sklearn.cross_validation import train_test_split\n",
    "from sklearn.metrics import log_loss\n",
    "from sklearn.svm import SVC\n",
    "from sklearn.ensemble import RandomForestClassifier\n",
    "from sklearn.naive_bayes import BernoulliNB"
   ]
  },
  {
   "cell_type": "code",
   "execution_count": 19,
   "metadata": {
    "collapsed": false
   },
   "outputs": [],
   "source": [
    "binarized_year = pandas.get_dummies(train[\"Year\"])\n",
    "binarized_month = pandas.get_dummies(train[\"Month\"])\n",
    "binarized_hour = pandas.get_dummies(train[\"Hour\"])\n",
    "binarized_day = pandas.get_dummies(train[\"DayOfWeek\"])\n",
    "binarized_pd = pandas.get_dummies(train[\"PdDistrict\"])\n",
    "binarized_train = pandas.concat([binarized_year, binarized_month, binarized_hour, binarized_day, binarized_pd, train[\"X\"]], axis = 1)\n",
    "\n",
    "binarized_year = pandas.get_dummies(test[\"Year\"])\n",
    "binarized_month = pandas.get_dummies(test[\"Month\"])\n",
    "binarized_hour = pandas.get_dummies(test[\"Hour\"])\n",
    "binarized_day = pandas.get_dummies(test[\"DayOfWeek\"])\n",
    "binarized_pd = pandas.get_dummies(test[\"PdDistrict\"])\n",
    "binarized_test = pandas.concat([binarized_year, binarized_month, binarized_hour, binarized_day, binarized_pd, test[\"X\"]], axis = 1)"
   ]
  },
  {
   "cell_type": "code",
   "execution_count": 20,
   "metadata": {
    "collapsed": false
   },
   "outputs": [
    {
     "data": {
      "text/plain": [
       "Index([u'00h', u'01h', u'01m', u'02h', u'02m', u'03h', u'03m', u'03y', u'04h',\n",
       "       u'04m', u'04y', u'05h', u'05m', u'05y', u'06h', u'06m', u'06y', u'07h',\n",
       "       u'07m', u'07y', u'08h', u'08m', u'08y', u'09h', u'09m', u'09y', u'10h',\n",
       "       u'10m', u'10y', u'11h', u'11m', u'11y', u'12h', u'12m', u'12y', u'13h',\n",
       "       u'13y', u'14h', u'14y', u'15h', u'15y', u'16h', u'17h', u'18h', u'19h',\n",
       "       u'20h', u'21h', u'22h', u'23h', u'BAYVIEW', u'CENTRAL', u'Friday',\n",
       "       u'INGLESIDE', u'MISSION', u'Monday', u'NORTHERN', u'PARK', u'RICHMOND',\n",
       "       u'SOUTHERN', u'Saturday', u'Sunday', u'TARAVAL', u'TENDERLOIN',\n",
       "       u'Thursday', u'Tuesday', u'Wednesday', u'X'],\n",
       "      dtype='object')"
      ]
     },
     "execution_count": 20,
     "metadata": {},
     "output_type": "execute_result"
    }
   ],
   "source": [
    "predictors = binarized_year.columns | binarized_month.columns | binarized_hour.columns | binarized_day.columns | binarized_pd.columns\n",
    "predictors.append(pandas.Index([\"X\"]))"
   ]
  },
  {
   "cell_type": "code",
   "execution_count": 11,
   "metadata": {
    "collapsed": false
   },
   "outputs": [
    {
     "ename": "NameError",
     "evalue": "name 'BernoulliNB' is not defined",
     "output_type": "error",
     "traceback": [
      "\u001b[0;31m---------------------------------------------------------------------------\u001b[0m",
      "\u001b[0;31mNameError\u001b[0m                                 Traceback (most recent call last)",
      "\u001b[0;32m<ipython-input-11-f58c07153061>\u001b[0m in \u001b[0;36m<module>\u001b[0;34m()\u001b[0m\n\u001b[0;32m----> 1\u001b[0;31m \u001b[0malg\u001b[0m \u001b[0;34m=\u001b[0m \u001b[0mBernoulliNB\u001b[0m\u001b[0;34m(\u001b[0m\u001b[0;34m)\u001b[0m\u001b[0;34m\u001b[0m\u001b[0m\n\u001b[0m\u001b[1;32m      2\u001b[0m \u001b[0malg\u001b[0m\u001b[0;34m.\u001b[0m\u001b[0mfit\u001b[0m\u001b[0;34m(\u001b[0m\u001b[0mbinarized_train\u001b[0m\u001b[0;34m[\u001b[0m\u001b[0mpredictors\u001b[0m\u001b[0;34m]\u001b[0m\u001b[0;34m,\u001b[0m \u001b[0mtrain\u001b[0m\u001b[0;34m[\u001b[0m\u001b[0;34m\"Category\"\u001b[0m\u001b[0;34m]\u001b[0m\u001b[0;34m)\u001b[0m\u001b[0;34m\u001b[0m\u001b[0m\n\u001b[1;32m      3\u001b[0m \u001b[0mpredicted\u001b[0m \u001b[0;34m=\u001b[0m \u001b[0malg\u001b[0m\u001b[0;34m.\u001b[0m\u001b[0mpredict_proba\u001b[0m\u001b[0;34m(\u001b[0m\u001b[0mbinarized_test\u001b[0m\u001b[0;34m[\u001b[0m\u001b[0mpredictors\u001b[0m\u001b[0;34m]\u001b[0m\u001b[0;34m)\u001b[0m\u001b[0;34m\u001b[0m\u001b[0m\n",
      "\u001b[0;31mNameError\u001b[0m: name 'BernoulliNB' is not defined"
     ]
    }
   ],
   "source": [
    "alg = BernoulliNB()\n",
    "alg.fit(binarized_train[predictors], train[\"Category\"])\n",
    "predicted = alg.predict_proba(binarized_test[predictors])"
   ]
  },
  {
   "cell_type": "code",
   "execution_count": 22,
   "metadata": {
    "collapsed": false
   },
   "outputs": [],
   "source": [
    "submission = pandas.DataFrame(predicted, columns = le.classes_)\n",
    "submission.to_csv(\"Data/NBResult.csv\", index = True, index_label = \"Id\")"
   ]
  }
 ],
 "metadata": {
  "kernelspec": {
   "display_name": "Python 2",
   "language": "python",
   "name": "python2"
  },
  "language_info": {
   "codemirror_mode": {
    "name": "ipython",
    "version": 2
   },
   "file_extension": ".py",
   "mimetype": "text/x-python",
   "name": "python",
   "nbconvert_exporter": "python",
   "pygments_lexer": "ipython2",
   "version": "2.7.10"
  }
 },
 "nbformat": 4,
 "nbformat_minor": 0
}

{
 "cells": [
  {
   "cell_type": "code",
   "execution_count": null,
   "metadata": {
    "collapsed": false
   },
   "outputs": [],
   "source": [
    "import sys\n",
    "sys.path.append('class/')"
   ]
  },
  {
   "cell_type": "markdown",
   "metadata": {},
   "source": [
    "## json 처리"
   ]
  },
  {
   "cell_type": "code",
   "execution_count": null,
   "metadata": {
    "collapsed": false
   },
   "outputs": [],
   "source": [
    "from JsonUtil import JsonUtil\n",
    "\n",
    "util = JsonUtil()\n",
    "labeled_train = util.parse(\"data(test)\")\n",
    "\n",
    "labeled_train"
   ]
  },
  {
   "cell_type": "markdown",
   "metadata": {},
   "source": [
    "## BagOfWords 라이브러리"
   ]
  },
  {
   "cell_type": "code",
   "execution_count": null,
   "metadata": {
    "collapsed": false
   },
   "outputs": [],
   "source": [
    "from BagOfWordsVectorizer import BagOfWordsVectorizer\n",
    "\n",
    "model = BagOfWordsVectorizer()\n",
    "\n",
    "model.fit(labeled_train[\"author_pos_sentences\"], max_features = 300)\n",
    "\n",
    "#model.transform(labeled_train[\"author_pos_sentences\"], \"author\")"
   ]
  },
  {
   "cell_type": "markdown",
   "metadata": {},
   "source": [
    "## Word2Vec 라이브러리"
   ]
  },
  {
   "cell_type": "code",
   "execution_count": null,
   "metadata": {
    "collapsed": false
   },
   "outputs": [],
   "source": [
    "from Word2VecModel import Word2VecModel\n",
    "\n",
    "model = Word2VecModel()\n",
    "\n",
    "model.fit(labeled_train[\"author_pos_sentences\"], max_features = 300)\n",
    "\n",
    "#model.transform(labeled_train[\"author_pos_sentences\"], col_name = \"author\")"
   ]
  },
  {
   "cell_type": "markdown",
   "metadata": {},
   "source": [
    "## LDA 라이브러리"
   ]
  },
  {
   "cell_type": "code",
   "execution_count": null,
   "metadata": {
    "collapsed": false
   },
   "outputs": [],
   "source": [
    "from LDAModel import LDAModel\n",
    "\n",
    "lda = LDAModel()\n",
    "\n",
    "lda.fit(labeled_train[\"author_pos\"], keep_n = 1000, num_topics = 200)\n",
    "\n",
    "#lda.transform(labeled_train[\"author_pos\"], keep_n = 1000, col_name = \"author\")"
   ]
  },
  {
   "cell_type": "markdown",
   "metadata": {},
   "source": [
    "## Feature Hasher 라이브러리"
   ]
  },
  {
   "cell_type": "code",
   "execution_count": null,
   "metadata": {
    "collapsed": false
   },
   "outputs": [],
   "source": [
    "from FeatureHasherModel import FeatureHasherModel\n",
    "\n",
    "hasher = FeatureHasherModel()\n",
    "\n",
    "hasher.fit(1000)\n",
    "\n",
    "#hasher.transform(labeled_train[\"author_pos\"], \"author\")"
   ]
  },
  {
   "cell_type": "markdown",
   "metadata": {},
   "source": [
    "## DictVectorizer 라이브러리"
   ]
  },
  {
   "cell_type": "code",
   "execution_count": null,
   "metadata": {
    "collapsed": false
   },
   "outputs": [],
   "source": [
    "from DictVectorizerModel import DictVectorizerModel\n",
    "\n",
    "model = DictVectorizerModel()\n",
    "\n",
    "model.fit(labeled_train[\"forumid\"])\n",
    "\n",
    "#model.transform(labeled_train[\"forumid\"],\"forum\")"
   ]
  },
  {
   "cell_type": "markdown",
   "metadata": {},
   "source": [
    "## TagCounter 라이브러리"
   ]
  },
  {
   "cell_type": "code",
   "execution_count": null,
   "metadata": {
    "collapsed": false
   },
   "outputs": [],
   "source": [
    "from TagCounterModel import TagCounterModel\n",
    "\n",
    "model = TagCounterModel()\n",
    "\n",
    "#model.get_tag(labeled_train[\"text\"])"
   ]
  },
  {
   "cell_type": "code",
   "execution_count": null,
   "metadata": {
    "collapsed": true
   },
   "outputs": [],
   "source": []
  },
  {
   "cell_type": "code",
   "execution_count": null,
   "metadata": {
    "collapsed": true
   },
   "outputs": [],
   "source": []
  }
 ],
 "metadata": {
  "kernelspec": {
   "display_name": "Python 3",
   "language": "python",
   "name": "python3"
  },
  "language_info": {
   "codemirror_mode": {
    "name": "ipython",
    "version": 3
   },
   "file_extension": ".py",
   "mimetype": "text/x-python",
   "name": "python",
   "nbconvert_exporter": "python",
   "pygments_lexer": "ipython3",
   "version": "3.5.0"
  }
 },
 "nbformat": 4,
 "nbformat_minor": 0
}
